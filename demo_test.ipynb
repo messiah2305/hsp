{
  "nbformat": 4,
  "nbformat_minor": 0,
  "metadata": {
    "colab": {
      "name": "Untitled14.ipynb",
      "provenance": [],
      "mount_file_id": "1d6P_QVQEg9EwTKwQW-EMu5hQDGklarWW",
      "authorship_tag": "ABX9TyO9g6L6uq9fN+AgyQfs+pGU",
      "include_colab_link": true
    },
    "kernelspec": {
      "name": "python3",
      "display_name": "Python 3"
    },
    "language_info": {
      "name": "python"
    }
  },
  "cells": [
    {
      "cell_type": "markdown",
      "metadata": {
        "id": "view-in-github",
        "colab_type": "text"
      },
      "source": [
        "<a href=\"https://colab.research.google.com/github/messiah2305/hsp/blob/master/demo_test.ipynb\" target=\"_parent\"><img src=\"https://colab.research.google.com/assets/colab-badge.svg\" alt=\"Open In Colab\"/></a>"
      ]
    },
    {
      "cell_type": "code",
      "execution_count": null,
      "metadata": {
        "id": "r-eVwIpn_veH"
      },
      "outputs": [],
      "source": [
        "%cd /content/drive/MyDrive\n",
        "!git clone https://github.com/messiah2305/hsp.git"
      ]
    },
    {
      "cell_type": "code",
      "source": [
        "!git clone https://github.com/torch/distro.git ~/torch --recursive\n",
        "%cd ~/torch; bash install-deps;\n",
        "!./install.sh"
      ],
      "metadata": {
        "id": "6O_sXpLOAyWR"
      },
      "execution_count": null,
      "outputs": []
    },
    {
      "cell_type": "code",
      "source": [
        "%cd /content/drive/MyDrive/hsp/torch-hsp"
      ],
      "metadata": {
        "colab": {
          "base_uri": "https://localhost:8080/"
        },
        "id": "TJYA00hSGQK0",
        "outputId": "4aa4b995-90d2-47d8-c12f-9290859569d5"
      },
      "execution_count": 5,
      "outputs": [
        {
          "output_type": "stream",
          "name": "stdout",
          "text": [
            "/content/drive/MyDrive/hsp/torch-hsp\n"
          ]
        }
      ]
    },
    {
      "cell_type": "code",
      "source": [
        "!apt-get install luarocks"
      ],
      "metadata": {
        "id": "3lbTUEh9GnVj"
      },
      "execution_count": null,
      "outputs": []
    },
    {
      "cell_type": "code",
      "source": [
        "!pip install -q torch==1.1.0"
      ],
      "metadata": {
        "colab": {
          "base_uri": "https://localhost:8080/"
        },
        "id": "zDflhX7aHIt0",
        "outputId": "502bcff9-f619-47e0-9f51-4a14c16f45c0"
      },
      "execution_count": 9,
      "outputs": [
        {
          "output_type": "stream",
          "name": "stdout",
          "text": [
            "\u001b[K     |████████████████████████████████| 676.9 MB 3.3 kB/s \n",
            "\u001b[31mERROR: pip's dependency resolver does not currently take into account all the packages that are installed. This behaviour is the source of the following dependency conflicts.\n",
            "torchvision 0.12.0+cu113 requires torch==1.11.0, but you have torch 1.1.0 which is incompatible.\n",
            "torchtext 0.12.0 requires torch==1.11.0, but you have torch 1.1.0 which is incompatible.\n",
            "torchaudio 0.11.0+cu113 requires torch==1.11.0, but you have torch 1.1.0 which is incompatible.\u001b[0m\n",
            "\u001b[?25h"
          ]
        }
      ]
    },
    {
      "cell_type": "code",
      "source": [
        "import torch\n",
        "print(torch.__version__)"
      ],
      "metadata": {
        "colab": {
          "base_uri": "https://localhost:8080/"
        },
        "id": "md8pv7ZhH2T-",
        "outputId": "b0689f9f-133a-4736-f1d3-5a80a876ea62"
      },
      "execution_count": 12,
      "outputs": [
        {
          "output_type": "stream",
          "name": "stdout",
          "text": [
            "1.1.0\n"
          ]
        }
      ]
    },
    {
      "cell_type": "code",
      "source": [
        "!sudo rm -rf ~/.cache/luarocks"
      ],
      "metadata": {
        "id": "cjigWMpiFmAC"
      },
      "execution_count": 14,
      "outputs": []
    },
    {
      "cell_type": "code",
      "source": [
        "!luarocks make hsp-1.0-0.rockspec"
      ],
      "metadata": {
        "colab": {
          "base_uri": "https://localhost:8080/"
        },
        "id": "a2jxTpT0Ir_s",
        "outputId": "1ac4cebc-7f63-4aef-86d5-149d720b1fe5"
      },
      "execution_count": 15,
      "outputs": [
        {
          "output_type": "stream",
          "name": "stdout",
          "text": [
            "Missing dependencies for hsp 1.0-0:\n",
            "   torch >= 7.0 (not installed)\n",
            "\n",
            "hsp 1.0-0 depends on torch >= 7.0 (not installed)\n",
            "\n",
            "Error: Could not satisfy dependency torch >= 7.0: No results matching query were found.\n"
          ]
        }
      ]
    },
    {
      "cell_type": "code",
      "source": [
        "th hspDemo.lua <GPU ID> <Trained Network File Name> <1.png>"
      ],
      "metadata": {
        "id": "VO5GfCbvE49S"
      },
      "execution_count": null,
      "outputs": []
    }
  ]
}